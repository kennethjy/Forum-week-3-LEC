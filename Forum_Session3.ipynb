{
 "cells": [
  {
   "cell_type": "code",
   "execution_count": 4,
   "id": "48c29165",
   "metadata": {},
   "outputs": [
    {
     "name": "stdout",
     "output_type": "stream",
     "text": [
      "Enter the radius of the circle: 5\n",
      "The area of the circle is 78.55\n"
     ]
    }
   ],
   "source": [
    "# no.1\n",
    "print(\"The area of the circle is\", (int(input(\"Enter the radius of the circle: \")) ** 2) * 3.142)"
   ]
  },
  {
   "cell_type": "code",
   "execution_count": 5,
   "id": "b3554b8c",
   "metadata": {},
   "outputs": [
    {
     "name": "stdout",
     "output_type": "stream",
     "text": [
      "Enter your first name: Kenneth\n",
      "Enter your last name: Jayadi\n",
      "Jayadi Kenneth\n"
     ]
    }
   ],
   "source": [
    "# no.2\n",
    "first = input(\"Enter your first name: \")\n",
    "print(input(\"Enter your last name: \"), first)"
   ]
  },
  {
   "cell_type": "code",
   "execution_count": 6,
   "id": "aa12f6c6",
   "metadata": {},
   "outputs": [
    {
     "name": "stdout",
     "output_type": "stream",
     "text": [
      "First: Red\n",
      "Last: Black\n"
     ]
    }
   ],
   "source": [
    "# no.3\n",
    "color_list = [\"Red\", \"Green\", \"White\", \"Black\"]\n",
    "print(\"First:\", color_list[0])\n",
    "print(\"Last:\", color_list[-1])"
   ]
  },
  {
   "cell_type": "code",
   "execution_count": 7,
   "id": "14042b7b",
   "metadata": {},
   "outputs": [
    {
     "name": "stdout",
     "output_type": "stream",
     "text": [
      "Enter an integer3\n",
      "The value of 3 + 33 + 333 is 369\n"
     ]
    }
   ],
   "source": [
    "# no.4\n",
    "num = input(\"Enter an integer\")\n",
    "print(\"The value of\", num, \"+\", num*2, \"+\", num*3, \"is\", int(num) + int(num*2) + int(num*3))"
   ]
  },
  {
   "cell_type": "code",
   "execution_count": 8,
   "id": "f1a92887",
   "metadata": {},
   "outputs": [
    {
     "name": "stdout",
     "output_type": "stream",
     "text": [
      "The volume of a sphere with radius 6 is 904.896\n"
     ]
    }
   ],
   "source": [
    "# no.5\n",
    "print(\"The volume of a sphere with radius 6 is\", 4/3 * 3.142 * (6**3))"
   ]
  },
  {
   "cell_type": "code",
   "execution_count": 10,
   "id": "4c1e49ca",
   "metadata": {},
   "outputs": [
    {
     "name": "stdout",
     "output_type": "stream",
     "text": [
      "Enter a number :18\n",
      "2\n"
     ]
    }
   ],
   "source": [
    "# no.6\n",
    "n = int(input(\"Enter a number :\"))\n",
    "if n - 17 > 0:\n",
    "    print(2 * (n - 17))\n",
    "else:\n",
    "    print(17 - n)"
   ]
  },
  {
   "cell_type": "code",
   "execution_count": 14,
   "id": "466ef508",
   "metadata": {},
   "outputs": [
    {
     "name": "stdout",
     "output_type": "stream",
     "text": [
      "Enter the first number: 3\n",
      "Enter the second number: 3\n",
      "Enter the third number: 3\n",
      "27\n"
     ]
    }
   ],
   "source": [
    "# no.7\n",
    "n1 = int(input(\"Enter the first number: \"))\n",
    "n2 = int(input(\"Enter the second number: \"))\n",
    "n3 = int(input(\"Enter the third number: \"))\n",
    "if n1 == n2 and n2 == n3:\n",
    "    print(9 * n1)\n",
    "else:\n",
    "    print(sum(n1, n2, n3))"
   ]
  },
  {
   "cell_type": "code",
   "execution_count": 15,
   "id": "dfc89b3d",
   "metadata": {},
   "outputs": [
    {
     "name": "stdout",
     "output_type": "stream",
     "text": [
      "Enter a number: 10\n",
      "That number is even\n"
     ]
    }
   ],
   "source": [
    "# no.8\n",
    "n = int(input(\"Enter a number: \"))\n",
    "if n%2 == 0:\n",
    "    print(\"That number is even\")\n",
    "else:\n",
    "    print(\"That number is odd\")"
   ]
  },
  {
   "cell_type": "code",
   "execution_count": 17,
   "id": "f9896434",
   "metadata": {},
   "outputs": [
    {
     "name": "stdout",
     "output_type": "stream",
     "text": [
      "Enter an alphabetical character: a\n",
      "That letter is a vowel\n"
     ]
    }
   ],
   "source": [
    "# no.9\n",
    "chr = input(\"Enter an alphabetical character: \")\n",
    "chr = chr.lower()\n",
    "if chr == \"a\" or chr == \"e\" or chr == \"i\" or chr == \"o\" or chr == \"u\":\n",
    "    print(\"That letter is a vowel\")\n",
    "else:\n",
    "    print(\"That letter is a consonant\")"
   ]
  },
  {
   "cell_type": "code",
   "execution_count": 1,
   "id": "5016fee1",
   "metadata": {},
   "outputs": [
    {
     "name": "stdout",
     "output_type": "stream",
     "text": [
      "Enter a number: 14\n",
      "The number is in the list\n"
     ]
    }
   ],
   "source": [
    "# no.10\n",
    "numlist = [11, 5, 14, 14, 5, 20, 8]\n",
    "num = int(input(\"Enter a number: \"))\n",
    "flag = False\n",
    "for i in numlist:\n",
    "    if num == i:\n",
    "        flag = True\n",
    "if flag:\n",
    "    print(\"The number is in the list\")\n",
    "else:\n",
    "    print(\"The number is not in the list\")"
   ]
  },
  {
   "cell_type": "code",
   "execution_count": 1,
   "id": "d1c59193",
   "metadata": {},
   "outputs": [
    {
     "data": {
      "text/plain": [
       "(array([ 8.,  4.,  4.,  4.,  6.,  2., 10.,  2.,  8.,  4.]),\n",
       " array([ 1. ,  3.5,  6. ,  8.5, 11. , 13.5, 16. , 18.5, 21. , 23.5, 26. ]),\n",
       " <BarContainer object of 10 artists>)"
      ]
     },
     "execution_count": 1,
     "metadata": {},
     "output_type": "execute_result"
    },
    {
     "data": {
      "image/png": "[encoded data removed]",
      "text/plain": [
       "<Figure size 640x480 with 1 Axes>"
      ]
     },
     "metadata": {},
     "output_type": "display_data"
    }
   ],
   "source": [
    "# no.11\n",
    "import matplotlib.pyplot as plot\n",
    "numbers = [21, 20, 4, 2, 16, 10, 24, 22, 15, 9, 7, 7, 23, 22, 25, 9, 26, 26, 12, 3, 4, 2, 22, 15, 3, 6, 16, 1, 18, 17, 11, 13, \n",
    "           18, 2, 16, 22, 11, 16, 9, 2, 16, 21, 6, 13, 4, 20, 17, 23, 2, 13, 18, 5]\n",
    "plot.hist(numbers)"
   ]
  },
  {
   "cell_type": "code",
   "execution_count": 6,
   "id": "e2f7a3ea",
   "metadata": {},
   "outputs": [
    {
     "name": "stdout",
     "output_type": "stream",
     "text": [
      "386 462 418 344 236 566 978 328 162 758 918 412 566 826 248 866 950 626 104 58 512 24 892 894 742 958 "
     ]
    }
   ],
   "source": [
    "# no.12\n",
    "numbers = [386, 462, 47, 418, 907, 344, 236, 375, 823, 566, 597, 978, 328, 615, 953, 345,\n",
    " 399, 162, 758, 219, 918, 237, 412, 566, 826, 248, 866, 950, 626, 949, 687, 217,\n",
    " 815, 67, 104, 58, 512, 24, 892, 894, 767, 553, 81, 379, 843, 831, 445, 742, 717,\n",
    " 958,743, 527]\n",
    "for i in numbers:\n",
    "    if i%2 == 0:\n",
    "        print(i, end=\" \")"
   ]
  },
  {
   "cell_type": "code",
   "execution_count": 24,
   "id": "28640f98",
   "metadata": {},
   "outputs": [
    {
     "name": "stdout",
     "output_type": "stream",
     "text": [
      "Enter the base of the triangle: 5\n",
      "Enter the height of the triangle: 6\n",
      "The area of the triangle is 15.0\n"
     ]
    }
   ],
   "source": [
    "# no.13\n",
    "print(\"The area of the triangle is\", int(input(\"Enter the base of the triangle: \")) * \n",
    "      int(input(\"Enter the height of the triangle: \")) / 2)"
   ]
  },
  {
   "cell_type": "code",
   "execution_count": 25,
   "id": "b1ba5f8e",
   "metadata": {},
   "outputs": [
    {
     "name": "stdout",
     "output_type": "stream",
     "text": [
      "Enter first number: 12\n",
      "Enter second number: 18\n",
      "The LCM of the two numbers is 36\n"
     ]
    }
   ],
   "source": [
    "# no.14\n",
    "n1 = int(input(\"Enter first number: \"))\n",
    "n2 = int(input(\"Enter second number: \"))\n",
    "if n1 > n2:\n",
    "    n1, n2 = n2, n1\n",
    "lcm = n2\n",
    "while lcm % n1 != 0:\n",
    "    lcm += n2\n",
    "print(\"The LCM of the two numbers is\", lcm)"
   ]
  },
  {
   "cell_type": "code",
   "execution_count": 26,
   "id": "a279e6e9",
   "metadata": {},
   "outputs": [
    {
     "name": "stdout",
     "output_type": "stream",
     "text": [
      "Enter the first number: 1\n",
      "Enter the second number: 1\n",
      "Enter the third number: 2\n",
      "0\n"
     ]
    }
   ],
   "source": [
    "# no.15\n",
    "n1 = int(input(\"Enter the first number: \"))\n",
    "n2 = int(input(\"Enter the second number: \"))\n",
    "n3 = int(input(\"Enter the third number: \"))\n",
    "# kenneth was here (I mean... I made this after all)\n",
    "if n1 == n2 or n2 == n3 or n1 == n3:\n",
    "    print(0)\n",
    "else:\n",
    "    print(sum(n1, n2, n3))"
   ]
  },
  {
   "cell_type": "code",
   "execution_count": 27,
   "id": "7f1e5587",
   "metadata": {},
   "outputs": [
    {
     "name": "stdout",
     "output_type": "stream",
     "text": [
      "Enter first number: 4\n",
      "Enter second number: 3\n",
      "The square of the sum of the two numbers is 49\n"
     ]
    }
   ],
   "source": [
    "# no.16\n",
    "n1 = int(input(\"Enter first number: \"))\n",
    "n2 = int(input(\"Enter second number: \"))\n",
    "print(\"The square of the sum of the two numbers is\", (n1+n2)**2)"
   ]
  },
  {
   "cell_type": "code",
   "execution_count": 28,
   "id": "af749170",
   "metadata": {},
   "outputs": [
    {
     "name": "stdout",
     "output_type": "stream",
     "text": [
      "Enter the amount of initial invesment: 10000\n",
      "Enter the annual rate of interest: 3.5\n",
      "Enter the duration of invesment in years: 7\n",
      "The final amount is 12722.792627665729\n"
     ]
    }
   ],
   "source": [
    "# no. 17\n",
    "amt = int(input(\"Enter the amount of initial invesment: \"))\n",
    "intr = float(input(\"Enter the annual rate of interest: \"))\n",
    "yr = int(input(\"Enter the duration of invesment in years: \"))\n",
    "print(\"The final amount is\", amt * ((1 + (intr/100)) ** yr))"
   ]
  },
  {
   "cell_type": "code",
   "execution_count": 30,
   "id": "807200bf",
   "metadata": {},
   "outputs": [
    {
     "name": "stdout",
     "output_type": "stream",
     "text": [
      "Enter x-coordinate of first point: 6\n",
      "Enter y-coordinate of first point: 1\n",
      "Enter x-coordinate of second point: 4\n",
      "Enter y-coordinate of second point: 9\n",
      "The distance between the two points is 8.246211251235321\n"
     ]
    }
   ],
   "source": [
    "# no.18\n",
    "x1 = int(input(\"Enter x-coordinate of first point: \"))\n",
    "y1 = int(input(\"Enter y-coordinate of first point: \"))\n",
    "x2 = int(input(\"Enter x-coordinate of second point: \"))\n",
    "y2 = int(input(\"Enter y-coordinate of second point: \"))\n",
    "print(\"The distance between the two points is\", ((x1 - x2)**2 + (y1 - y2)**2)**(1/2))"
   ]
  },
  {
   "cell_type": "code",
   "execution_count": 31,
   "id": "61314575",
   "metadata": {},
   "outputs": [
    {
     "name": "stdout",
     "output_type": "stream",
     "text": [
      "Enter a positive integer10\n",
      "The sum of the first 10 integers is 56\n"
     ]
    }
   ],
   "source": [
    "# no.19\n",
    "n = int(input(\"Enter a positive integer\"))\n",
    "num = 1\n",
    "for i in range(0, n + 1):\n",
    "    num += i\n",
    "print(\"The sum of the first\", n, \"integers is\", num)"
   ]
  },
  {
   "cell_type": "code",
   "execution_count": 33,
   "id": "124f2a1f",
   "metadata": {},
   "outputs": [
    {
     "name": "stdout",
     "output_type": "stream",
     "text": [
      "Enter your height in [feet,inches]: 5,11\n",
      "Your height is 180.34 centimeters\n"
     ]
    }
   ],
   "source": [
    "# no.20\n",
    "h = input(\"Enter your height in [feet,inches]: \")\n",
    "h = h.split(\",\")\n",
    "print(\"Your height is\", (12*int(h[0]) + int(h[1]))*2.54, \"centimeters\")"
   ]
  },
  {
   "cell_type": "code",
   "execution_count": 34,
   "id": "359a99c7",
   "metadata": {},
   "outputs": [
    {
     "name": "stdout",
     "output_type": "stream",
     "text": [
      "Enter the base of a right triangle: 3\n",
      "Enter the height of a right triangle: 4\n",
      "The hypotenuse of the right triangle is 5.0\n"
     ]
    }
   ],
   "source": [
    "# no.21\n",
    "a = int(input(\"Enter the base of a right triangle: \"))\n",
    "b = int(input(\"Enter the height of a right triangle: \"))\n",
    "print(\"The hypotenuse of the right triangle is\", (a**2 + b**2)**0.5)"
   ]
  },
  {
   "cell_type": "code",
   "execution_count": 35,
   "id": "fd3fe3b2",
   "metadata": {},
   "outputs": [
    {
     "name": "stdout",
     "output_type": "stream",
     "text": [
      "Enter your weight in kilograms: 74\n",
      "Enter your height in centimeters: 180\n",
      "Your body mass index is 22.839506172839506\n"
     ]
    }
   ],
   "source": [
    "# no.22\n",
    "# if you're copying, at least change the inputs\n",
    "w = int(input(\"Enter your weight in kilograms: \"))\n",
    "h = int(input(\"Enter your height in centimeters: \"))\n",
    "print(\"Your body mass index is\", w / (h/100)**2)"
   ]
  },
  {
   "cell_type": "code",
   "execution_count": 36,
   "id": "64e16d2a",
   "metadata": {},
   "outputs": [
    {
     "name": "stdout",
     "output_type": "stream",
     "text": [
      "Enter x-coordinate of first point: 4\n",
      "Enter y-coordinate of first point: 6\n",
      "Enter x-coordinate of second point: 5\n",
      "Enter y-coordinate of second point: 7\n",
      "The midpoint the two points is ( 4.5 , 6.5 )\n"
     ]
    }
   ],
   "source": [
    "# no.23\n",
    "x1 = int(input(\"Enter x-coordinate of first point: \"))\n",
    "y1 = int(input(\"Enter y-coordinate of first point: \"))\n",
    "x2 = int(input(\"Enter x-coordinate of second point: \"))\n",
    "y2 = int(input(\"Enter y-coordinate of second point: \"))\n",
    "print(\"The midpoint the two points is (\", (x1+x2)/2, \",\", (y1+y2)/2, \")\")"
   ]
  },
  {
   "cell_type": "code",
   "execution_count": 39,
   "id": "74bef5d6",
   "metadata": {},
   "outputs": [
    {
     "name": "stdout",
     "output_type": "stream",
     "text": [
      "2002, 2009, 2016, 2023, 2037, 2044, 2051, 2058, 2072, 2079, 2086, 2093, 2107, 2114, 2121, 2128, 2142, 2149, 2156, 2163, 2177, 2184, 2191, 2198, 2212, 2219, 2226, 2233, 2247, 2254, 2261, 2268, 2282, 2289, 2296, 2303, 2317, 2324, 2331, 2338, 2352, 2359, 2366, 2373, 2387, 2394, 2401, 2408, 2422, 2429, 2436, 2443, 2457, 2464, 2471, 2478, 2492, 2499, 2506, 2513, 2527, 2534, 2541, 2548, 2562, 2569, 2576, 2583, 2597, 2604, 2611, 2618, 2632, 2639, 2646, 2653, 2667, 2674, 2681, 2688, 2702, 2709, 2716, 2723, 2737, 2744, 2751, 2758, 2772, 2779, 2786, 2793, 2807, 2814, 2821, 2828, 2842, 2849, 2856, 2863, 2877, 2884, 2891, 2898, 2912, 2919, 2926, 2933, 2947, 2954, 2961, 2968, 2982, 2989, 2996, 3003, 3017, 3024, 3031, 3038, 3052, 3059, 3066, 3073, 3087, 3094, 3101, 3108, 3122, 3129, 3136, 3143, 3157, 3164, 3171, 3178, 3192, 3199\n"
     ]
    }
   ],
   "source": [
    "# no.24\n",
    "i = 2000\n",
    "lists = []\n",
    "while i % 7 != 0:\n",
    "    i = i + 1\n",
    "while i <= 3200:\n",
    "    if i % 5 != 0:\n",
    "        lists.append(i)\n",
    "    i += 7\n",
    "string = str(lists).strip(\"[\").strip(\"]\")\n",
    "print(string)"
   ]
  },
  {
   "cell_type": "code",
   "execution_count": null,
   "id": "2f362d66",
   "metadata": {},
   "outputs": [],
   "source": []
  }
 ],
 "metadata": {
  "kernelspec": {
   "display_name": "Python 3 (ipykernel)",
   "language": "python",
   "name": "python3"
  },
  "language_info": {
   "codemirror_mode": {
    "name": "ipython",
    "version": 3
   },
   "file_extension": ".py",
   "mimetype": "text/x-python",
   "name": "python",
   "nbconvert_exporter": "python",
   "pygments_lexer": "ipython3",
   "version": "3.8.6"
  }
 },
 "nbformat": 4,
 "nbformat_minor": 5
}
