{
 "cells": [
  {
   "cell_type": "code",
   "execution_count": 2,
   "id": "3a4f608f",
   "metadata": {},
   "outputs": [
    {
     "name": "stdout",
     "output_type": "stream",
     "text": [
      "gold : 550\n",
      "pouch : ['flint', 'twine', 'gemstone']\n",
      "backpack : ['bedroll', 'bread loaf', 'xylophone']\n",
      "pocket : ['seashell', 'strange berry', 'lint']\n"
     ]
    }
   ],
   "source": [
    "inventory = {\n",
    "    'gold' : 500,\n",
    "    'pouch' : ['flint', 'twine', 'gemstone'],\n",
    "    'backpack' : ['xylophone','dagger', 'bedroll','bread loaf']\n",
    "}\n",
    "inventory['pocket'] = ['seashell', 'strange berry', 'lint']\n",
    "inventory['backpack'].sort()\n",
    "inventory['backpack'].remove('dagger')\n",
    "inventory['gold'] += 50\n",
    "for i in inventory:\n",
    "    print(i, \":\", inventory[i])"
   ]
  },
  {
   "cell_type": "code",
   "execution_count": 3,
   "id": "94e79ebf",
   "metadata": {},
   "outputs": [
    {
     "name": "stdout",
     "output_type": "stream",
     "text": [
      "banana\n",
      "price: 4\n",
      "stock: 6\n",
      "money from selling entire stock: 24\n",
      "\n",
      "apple\n",
      "price: 2\n",
      "stock: 0\n",
      "money from selling entire stock: 0\n",
      "\n",
      "orange\n",
      "price: 1.5\n",
      "stock: 32\n",
      "money from selling entire stock: 48.0\n",
      "\n",
      "pear\n",
      "price: 3\n",
      "stock: 15\n",
      "money from selling entire stock: 45\n",
      "\n",
      "Total: 117.0\n"
     ]
    }
   ],
   "source": [
    "stock = {\n",
    " \"banana\": 6,\n",
    " \"apple\": 0,\n",
    " \"orange\": 32,\n",
    " \"pear\": 15\n",
    "}\n",
    "prices = {\n",
    " \"banana\": 4,\n",
    " \"apple\": 2,\n",
    " \"orange\": 1.5,\n",
    " \"pear\": 3\n",
    "}\n",
    "\n",
    "total = 0\n",
    "for i in prices:\n",
    "    print(i)\n",
    "    print(\"price:\", prices[i])\n",
    "    print(\"stock:\", stock[i])\n",
    "    print(\"money from selling entire stock:\", prices[i] * stock[i])\n",
    "    print()\n",
    "    total += prices[i] * stock[i]\n",
    "print(\"Total:\", total)"
   ]
  },
  {
   "cell_type": "code",
   "execution_count": 4,
   "id": "27379964",
   "metadata": {},
   "outputs": [
    {
     "name": "stdout",
     "output_type": "stream",
     "text": [
      "Total price: 12.5\n"
     ]
    }
   ],
   "source": [
    "stock = {\n",
    " \"banana\": 6,\n",
    " \"apple\": 0,\n",
    " \"orange\": 32,\n",
    " \"pear\": 15\n",
    "}\n",
    "prices = {\n",
    " \"banana\": 4,\n",
    " \"apple\": 2,\n",
    " \"orange\": 1.5,\n",
    " \"pear\": 3\n",
    "}\n",
    "def compute_bill(foodlist):\n",
    "    total = 0\n",
    "    for i in foodlist:\n",
    "        if stock.get(i, 0) > 0:\n",
    "            total += prices.get(i, 0)\n",
    "            stock[i] -= 1\n",
    "    return total\n",
    "\n",
    "foods = ['banana', 'banana', 'apple', 'orange', 'pear', 'watermelon']\n",
    "print(\"Total price:\", compute_bill(foods))"
   ]
  },
  {
   "cell_type": "code",
   "execution_count": 7,
   "id": "4a4f42de",
   "metadata": {},
   "outputs": [
    {
     "name": "stdout",
     "output_type": "stream",
     "text": [
      "Name: Eren\n",
      "Homework: [90.0, 97.0, 75.0, 92.0]\n",
      "Quizzes: [88.0, 40.0, 94.0]\n",
      "Tests: [75.0, 90.0]\n",
      "\n",
      "Name: Mikasa\n",
      "Homework: [100.0, 92.0, 98.0, 100.0]\n",
      "Quizzes: [82.0, 83.0, 91.0]\n",
      "Tests: [89.0, 97.0]\n",
      "\n",
      "Name: Armin\n",
      "Homework: [0.0, 87.0, 75.0, 22.0]\n",
      "Quizzes: [0.0, 75.0, 78.0]\n",
      "Tests: [100.0, 100.0]\n",
      "\n",
      "eren: C\n",
      "79.9 C\n"
     ]
    }
   ],
   "source": [
    "eren = {\n",
    " \"name\": \"Eren\",\n",
    " \"homework\": [90.0,97.0,75.0,92.0],\n",
    " \"quizzes\": [88.0,40.0,94.0],\n",
    " \"tests\": [75.0,90.0]\n",
    "}\n",
    "mikasa = {\n",
    "\"name\": \"Mikasa\",\n",
    "\"homework\": [100.0, 92.0, 98.0, 100.0],\n",
    "\"quizzes\": [82.0, 83.0, 91.0],\n",
    "\"tests\": [89.0, 97.0]\n",
    "}\n",
    "armin = {\n",
    "\"name\": \"Armin\",\n",
    "\"homework\": [0.0, 87.0, 75.0, 22.0],\n",
    "\"quizzes\": [0.0, 75.0, 78.0],\n",
    "\"tests\": [100.0, 100.0]\n",
    "}\n",
    "students = ['eren', 'mikasa', 'armin']\n",
    "\n",
    "for s in students:\n",
    "    print(\"Name:\", eval(s + \"['name']\"))\n",
    "    print(\"Homework:\", eval(s + \"['homework']\"))\n",
    "    print(\"Quizzes:\", eval(s + \"['quizzes']\"))\n",
    "    print(\"Tests:\", eval(s + \"['tests']\"))\n",
    "    print()\n",
    "    \n",
    "def average(numbers):\n",
    "    total = float(sum(numbers)) / len(numbers)\n",
    "    return total\n",
    "\n",
    "def get_average(student):\n",
    "    hw = average(eval(s + \"['homework']\")) * 0.1\n",
    "    q = average(eval(s + \"['quizzes']\")) * 0.3\n",
    "    t = average(eval(s + \"['tests']\")) * 0.6\n",
    "    return hw + q + t\n",
    "\n",
    "def get_letter_grade(score):\n",
    "    if score >= 90:\n",
    "        return 'A'\n",
    "    elif score >= 80:\n",
    "        return 'B'\n",
    "    elif score >= 70:\n",
    "        return 'C'\n",
    "    elif score >= 60:\n",
    "        return 'D'\n",
    "    else:\n",
    "        return 'F'\n",
    "\n",
    "print('eren:', get_letter_grade(get_average('eren')))\n",
    "\n",
    "def get_class_average(students):\n",
    "    results = []\n",
    "    for student in students:\n",
    "        results.append(get_average(student))\n",
    "    return average(results)\n",
    "print(get_class_average(students), get_letter_grade(get_class_average(students)))"
   ]
  },
  {
   "cell_type": "code",
   "execution_count": null,
   "id": "effec7a7",
   "metadata": {},
   "outputs": [],
   "source": []
  }
 ],
 "metadata": {
  "kernelspec": {
   "display_name": "Python 3 (ipykernel)",
   "language": "python",
   "name": "python3"
  },
  "language_info": {
   "codemirror_mode": {
    "name": "ipython",
    "version": 3
   },
   "file_extension": ".py",
   "mimetype": "text/x-python",
   "name": "python",
   "nbconvert_exporter": "python",
   "pygments_lexer": "ipython3",
   "version": "3.8.6"
  }
 },
 "nbformat": 4,
 "nbformat_minor": 5
}
